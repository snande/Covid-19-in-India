{
 "cells": [
  {
   "cell_type": "code",
   "execution_count": 1,
   "metadata": {},
   "outputs": [],
   "source": [
    "import pandas as pd\n",
    "import plotly.express as px\n",
    "import plotly.graph_objects as go\n",
    "import chart_studio\n",
    "import numpy as np"
   ]
  },
  {
   "cell_type": "code",
   "execution_count": 2,
   "metadata": {},
   "outputs": [],
   "source": [
    "source = pd.read_csv(\"covid_19_india.csv\", usecols=['Date', 'State/UnionTerritory', 'Confirmed'])\n",
    "source['last10days'] = 1\n",
    "\n",
    "\n",
    "for i in source['State/UnionTerritory'].unique():\n",
    "    idx = source[source['State/UnionTerritory'] == i].index\n",
    "    source.loc[idx, 'last10days'] = source.loc[idx, 'Confirmed'].diff(periods=10)\n",
    "    source.loc[idx[:10], 'last10days'] = source.loc[idx[:10], 'Confirmed']\n",
    "    \n",
    "    \n",
    "source['Date'] = pd.to_datetime(source['Date'], format=\"%d/%m/%y\")\n",
    "\n",
    "subdata = source[source['Date'] >= pd.Timestamp(2020, 3, 20)]"
   ]
  },
  {
   "cell_type": "code",
   "execution_count": 3,
   "metadata": {},
   "outputs": [],
   "source": [
    "d = np.array([2, 5, 7, 10, 15, 20, 30])\n",
    "r = 1 - np.exp(-10*np.log(2)/d)"
   ]
  },
  {
   "cell_type": "code",
   "execution_count": 4,
   "metadata": {
    "scrolled": false
   },
   "outputs": [],
   "source": [
    "#scope = subdata['State/UnionTerritory'].unique()\n",
    "\n",
    "scope = ['Maharashtra', 'Delhi', 'Rajasthan', 'Gujarat', 'Tamil Nadu', \n",
    "         'Kerala', 'West Bengal', 'Uttar Pradesh']\n",
    "\n",
    "\n",
    "shortform = {'Maharashtra':'MH', 'Gujarat':'GJ', 'Delhi':'DL', 'Rajasthan':'RJ', 'Madhya Pradesh':'MP', \n",
    "             'Tamil Nadu':'TN', 'Uttar Pradesh':'UP', 'Telengana':'TS', 'Kerala':'KL', 'West Bengal':'WB'}\n",
    "\n",
    "#scope = ['Uttar Pradesh']\n",
    "\n",
    "colorlist = (px.colors.qualitative.Plotly[:7] + px.colors.qualitative.Vivid[:2] + \n",
    "             px.colors.qualitative.Vivid[3:] + px.colors.qualitative.Set2 + px.colors.sequential.Peach)\n",
    "\n",
    "\n",
    "''' First Frame '''\n",
    "\n",
    "\n",
    "firstdatalist = []\n",
    "\n",
    "counter = -1\n",
    "\n",
    "for i in range(len(d)):\n",
    "    \n",
    "    firstdatalist.append(\n",
    "            go.Scatter(\n",
    "            x = np.array([2, 5*10**4]),\n",
    "            y = np.array([2, 5*10**4])*r[i],\n",
    "            mode=\"lines\", line_width=1.6, line_color=colorlist[counter], line_dash='solid', \n",
    "            opacity=1.0, name='double in {} days'.format(d[i])))\n",
    "    \n",
    "    counter = counter-1\n",
    "\n",
    "counter = 0\n",
    "for i in scope:\n",
    "        \n",
    "    firstdatalist.append(\n",
    "        go.Scatter(\n",
    "            x = subdata.loc[(subdata['State/UnionTerritory'] == i) & \n",
    "                            (subdata['Date'] == pd.Timestamp(2020, 3, 21)), 'Confirmed'],\n",
    "            y = subdata.loc[(subdata['State/UnionTerritory'] == i) & \n",
    "                            (subdata['Date'] == pd.Timestamp(2020, 3, 21)), 'last10days'],\n",
    "            mode=\"markers+text\", marker_size=8, marker_color=colorlist[counter],\n",
    "            opacity=1.0, text=shortform[i], textposition='middle right',  showlegend=False))\n",
    "    \n",
    "    firstdatalist.append(\n",
    "        go.Scatter(\n",
    "            x = subdata.loc[(subdata['State/UnionTerritory'] == i) & \n",
    "                            (subdata['Date'] <= pd.Timestamp(2020, 3, 21)), 'Confirmed'],\n",
    "            y = subdata.loc[(subdata['State/UnionTerritory'] == i) & \n",
    "                            (subdata['Date'] <= pd.Timestamp(2020, 3, 21)), 'last10days'],\n",
    "            mode=\"lines\", line_shape='spline', line_dash='4, 2, 4, 2', line_width=2, marker_size=3,\n",
    "            opacity=1.0, marker_color=colorlist[counter], name=i))  \n",
    "    \n",
    "    counter = counter+1\n",
    "    \n",
    "\n",
    "''' Animation Frames '''    \n",
    "    \n",
    "    \n",
    "framelist=[]\n",
    "\n",
    "for k in pd.date_range(start='3/22/2020', end=subdata['Date'].max()):\n",
    "    datalist =[]\n",
    "        \n",
    "    counter = -1\n",
    "\n",
    "    for i in range(len(d)):\n",
    "    \n",
    "        datalist.append(\n",
    "            go.Scatter(\n",
    "            x = np.array([2, 5*10**4]),\n",
    "            y = np.array([2, 5*10**4])*r[i],\n",
    "            mode=\"lines\", line_width=1.6, line_color=colorlist[counter], line_dash='solid', \n",
    "            opacity=0.8, name='double in {} days'.format(d[i]), showlegend=False))\n",
    "    \n",
    "        counter = counter-1\n",
    "    \n",
    "    counter = 0\n",
    "    \n",
    "    for i in scope:\n",
    "        \n",
    "        datalist.append(\n",
    "            go.Scatter(\n",
    "            x = subdata.loc[(subdata['State/UnionTerritory'] == i) & (subdata['Date'] == k), 'Confirmed'],\n",
    "            y = subdata.loc[(subdata['State/UnionTerritory'] == i) & (subdata['Date'] == k), 'last10days'],\n",
    "            mode=\"markers+text\", marker_size=8, marker_color=colorlist[counter],\n",
    "            opacity=1.0, text=shortform[i], textposition='middle right', showlegend=False))\n",
    "        \n",
    "        datalist.append(\n",
    "            go.Scatter(\n",
    "            x = subdata.loc[(subdata['State/UnionTerritory'] == i) & (subdata['Date'] <= k), 'Confirmed'],\n",
    "            y = subdata.loc[(subdata['State/UnionTerritory'] == i) & (subdata['Date'] <= k), 'last10days'],\n",
    "            mode=\"lines\", line_shape='spline', line_dash='4, 2, 4, 2', line_width=2, marker_size=3, \n",
    "            opacity=0.7, marker_color=colorlist[counter], name=shortform[i], showlegend=False))\n",
    "        \n",
    "        counter = counter+1\n",
    "        \n",
    "    framelist.append(go.Frame(data = datalist))\n",
    "    \n",
    "    \n",
    "    "
   ]
  },
  {
   "cell_type": "code",
   "execution_count": 5,
   "metadata": {
    "scrolled": false
   },
   "outputs": [
    {
     "data": {
      "text/html": [
       "<iframe\n",
       "    scrolling=\"no\"\n",
       "    width=\"100%\"\n",
       "    height=\"670\"\n",
       "    src=\"iframe_figures/figure_5.html\"\n",
       "    frameborder=\"0\"\n",
       "    allowfullscreen\n",
       "></iframe>\n"
      ]
     },
     "metadata": {},
     "output_type": "display_data"
    }
   ],
   "source": [
    "\n",
    "fig = go.Figure(\n",
    "                data = firstdatalist,\n",
    "\n",
    "                layout = go.Layout(height=650, template='plotly_white',\n",
    "                                   xaxis_type=\"log\", yaxis_type=\"log\", xaxis_range=[1.3, 4.602], yaxis_range=[1.3, 4.578],\n",
    "                                   title=\"Covid-19 : Trajectory and efficacy of mitigation steps by {} States in India\".format(len(scope)),\n",
    "                                   xaxis_title=\"Total Cases\", yaxis_title=\"New Cases in last 10 days\",\n",
    "                                   transition_duration=10000,\n",
    "                                   updatemenus=[dict( type=\"buttons\", buttons=[dict(label=\"Play\", method=\"animate\", \n",
    "                                                args=[None, {\"frame\": {\"duration\": 500, \"redraw\": False},\n",
    "                                                \"fromcurrent\": True, \n",
    "                                                \"transition\": {\"duration\": 50, \"easing\": \"linear-out\"}}])])]),\n",
    "\n",
    "                frames = framelist \n",
    "                \n",
    "                )\n",
    "\n",
    "#go.Figure.write_html(fig, file='something.html')\n",
    "\n",
    "fig.show(renderer=\"iframe\")\n",
    "#fig.show()"
   ]
  },
  {
   "cell_type": "code",
   "execution_count": 134,
   "metadata": {},
   "outputs": [
    {
     "data": {
      "text/plain": [
       "'rgb(204,204,204)'"
      ]
     },
     "execution_count": 134,
     "metadata": {},
     "output_type": "execute_result"
    }
   ],
   "source": [
    "px.colors.qualitative.Pastel2[-1]"
   ]
  },
  {
   "cell_type": "code",
   "execution_count": 31,
   "metadata": {},
   "outputs": [
    {
     "data": {
      "text/plain": [
       "'rgb(179,226,205)'"
      ]
     },
     "execution_count": 31,
     "metadata": {},
     "output_type": "execute_result"
    }
   ],
   "source": [
    "px.colors.qualitative.Pastel2[-8]"
   ]
  },
  {
   "cell_type": "code",
   "execution_count": null,
   "metadata": {},
   "outputs": [],
   "source": []
  },
  {
   "cell_type": "code",
   "execution_count": null,
   "metadata": {},
   "outputs": [],
   "source": []
  }
 ],
 "metadata": {
  "kernelspec": {
   "display_name": "Python 3",
   "language": "python",
   "name": "python3"
  },
  "language_info": {
   "codemirror_mode": {
    "name": "ipython",
    "version": 3
   },
   "file_extension": ".py",
   "mimetype": "text/x-python",
   "name": "python",
   "nbconvert_exporter": "python",
   "pygments_lexer": "ipython3",
   "version": "3.7.4"
  }
 },
 "nbformat": 4,
 "nbformat_minor": 2
}
